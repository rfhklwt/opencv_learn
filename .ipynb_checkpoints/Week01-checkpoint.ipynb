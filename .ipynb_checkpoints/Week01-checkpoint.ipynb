{
 "cells": [
  {
   "cell_type": "markdown",
   "metadata": {},
   "source": [
    "## 1. 图像读取与显示"
   ]
  },
  {
   "cell_type": "code",
   "execution_count": 5,
   "metadata": {},
   "outputs": [],
   "source": [
    "import cv2 as cv\n",
    "src = cv.imread(\"D:/Our Home/Python/OpenCV/image/rabbits.jpg\")\n",
    "#cv.namedWindow(\"input\", cv.WINDOW_AUTOSIZE)\n",
    "cv.imshow(\"input\", src)\n",
    "cv.waitKey(0)\n",
    "# 避免内存泄漏\n",
    "cv.destroyAllWindows()"
   ]
  },
  {
   "cell_type": "markdown",
   "metadata": {},
   "source": [
    "## 2. 色彩空间转换"
   ]
  },
  {
   "cell_type": "markdown",
   "metadata": {},
   "source": [
    "1. 色彩空间转换函数 - cvtColor\n",
    "\n",
    "COLOR_BGR2GRAY = 6 彩色到灰度\n",
    "\n",
    "COLOR_GRAY2BGR = 8 灰度到彩色\n",
    "\n",
    "COLOR_BGR2HSV = 40 BGR到HSV\n",
    "\n",
    "COLOR_HSV2BGR = 54 HSV到BGR\n",
    "\n",
    "2. 图像保存 - imwrite\n",
    "\n",
    "第一个参数是图像保存路径\n",
    "\n",
    "第二个参数是图像内存对象"
   ]
  },
  {
   "cell_type": "code",
   "execution_count": 3,
   "metadata": {},
   "outputs": [],
   "source": [
    "import cv2 as cv\n",
    "src = cv.imread(\"D:/Our Home/Python/OpenCV/image/rabbits.jpg\")\n",
    "#cv.namedWindow(\"input\", cv.WINDOW_AUTOSIZE)\n",
    "cv.imshow(\"input\", src)\n",
    "gray = cv.cvtColor(src, cv.COLOR_BGR2GRAY)\n",
    "cv.imshow(\"gray\", gray)\n",
    "cv.imwrite(\"D:/Our Home/Python/OpenCV/image/rabbits_gray.jpg\", gray)\n",
    "cv.waitKey(0)\n",
    "cv.destroyAllWindows()"
   ]
  },
  {
   "cell_type": "markdown",
   "metadata": {},
   "source": [
    "## 3. OpenCV中图像对象创建与赋值 "
   ]
  },
  {
   "cell_type": "code",
   "execution_count": 3,
   "metadata": {},
   "outputs": [
    {
     "data": {
      "text/plain": [
       "-1"
      ]
     },
     "execution_count": 3,
     "metadata": {},
     "output_type": "execute_result"
    }
   ],
   "source": [
    "import numpy as np\n",
    "import cv2 as cv\n",
    "\n",
    "src = cv.imread(\"D:/Our Home/Python/OpenCV/image/rabbits.jpg\")\n",
    "# 1. 克隆图像\n",
    "m1 = np.copy(src)\n",
    "# 2. 赋值\n",
    "m2 = src\n",
    "src[100: 200, 200: 300, :] = 255\n",
    "#cv.imshow(\"m1\", m1)\n",
    "#cv.imshow(\"m2\", m2)\n",
    "# 3. 创建一个大小格式与源图像一致的图像，但值为0\n",
    "m3 = np.zeros(src.shape, src.dtype)\n",
    "#cv.imshow(\"m3\", m3)\n",
    "# 3. 创建一个大小为512×512，格式为uint8的灰度图，值为0\n",
    "m4 = np.zeros([512, 512], np.uint8)\n",
    "#cv.imshow(\"m4\", m4)\n",
    "# 4. 创建一个大小为512×512，格式为uint8的三通道RGB图，值为0\n",
    "m5 = np.ones(shape=[512, 512, 3], dtype=np.uint8)\n",
    "#cv.imshow(\"m5\", m5)\n",
    "\n",
    "cv.waitKey(0)"
   ]
  },
  {
   "cell_type": "markdown",
   "metadata": {},
   "source": [
    "## 4. OpenCV中图像像素读写操作"
   ]
  },
  {
   "cell_type": "code",
   "execution_count": 4,
   "metadata": {},
   "outputs": [
    {
     "name": "stdout",
     "output_type": "stream",
     "text": [
      "h, w, ch:  655 1000 3\n"
     ]
    },
    {
     "data": {
      "text/plain": [
       "-1"
      ]
     },
     "execution_count": 4,
     "metadata": {},
     "output_type": "execute_result"
    }
   ],
   "source": [
    "import numpy as np\n",
    "import cv2 as cv\n",
    "\n",
    "src = cv.imread(\"D:/Our Home/Python/OpenCV/image/rabbits.jpg\")\n",
    "# 获取图像的height, weight, channel\n",
    "h, w, ch = src.shape\n",
    "print(\"h, w, ch: \", h, w, ch)\n",
    "# 尝试对每个像素进行取反\n",
    "for row in range(h):\n",
    "    for col in range(w):\n",
    "        b, g, r = src[row, col]\n",
    "        b = 255 - b\n",
    "        g = 255 - g\n",
    "        r = 255 - r\n",
    "        src[row, col] = [b, g, r]\n",
    "cv.imshow(\"output\", src)\n",
    "cv.waitKey(0)"
   ]
  },
  {
   "cell_type": "markdown",
   "metadata": {},
   "source": [
    "## 5.OpenCV中像素算数操作"
   ]
  },
  {
   "cell_type": "code",
   "execution_count": 4,
   "metadata": {},
   "outputs": [
    {
     "data": {
      "text/plain": [
       "-1"
      ]
     },
     "execution_count": 4,
     "metadata": {},
     "output_type": "execute_result"
    }
   ],
   "source": [
    "import numpy as np\n",
    "import cv2 as cv\n",
    "\n",
    "src1 = cv.imread(\"D:/Our Home/Python/OpenCV/image/rabbits.jpg\")\n",
    "src2 = cv.imread(\"D:/Our Home/Python/OpenCV/image/rabbits.jpg\")\n",
    "# 加\n",
    "add_result = np.zeros(src1.shape, src1.dtype)\n",
    "cv.add(src1, src2, add_result)\n",
    "cv.imshow(\"add_result\", add_result)\n",
    "\n",
    "# 减\n",
    "sub_result = np.zeros(src1.shape, src1.dtype)\n",
    "cv.subtract(src1, src2, sub_result)\n",
    "cv.imshow(\"sub_result\", sub_result)\n",
    "\n",
    "# 乘\n",
    "mul_result = np.zeros(src1.shape, src1.dtype)\n",
    "cv.multiply(src1, src2, mul_result)\n",
    "cv.imshow(\"mul_result\", mul_result)\n",
    "\n",
    "# 除\n",
    "div_result = np.zeros(src1.shape, src1.dtype)\n",
    "cv.divide(src1, src2, div_result)\n",
    "cv.imshow(\"div_result\", div_result)\n",
    "\n",
    "cv.waitKey(0)"
   ]
  }
 ],
 "metadata": {
  "kernelspec": {
   "display_name": "Python 3",
   "language": "python",
   "name": "python3"
  },
  "language_info": {
   "codemirror_mode": {
    "name": "ipython",
    "version": 3
   },
   "file_extension": ".py",
   "mimetype": "text/x-python",
   "name": "python",
   "nbconvert_exporter": "python",
   "pygments_lexer": "ipython3",
   "version": "3.7.6"
  }
 },
 "nbformat": 4,
 "nbformat_minor": 4
}
