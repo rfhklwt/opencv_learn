{
 "cells": [
  {
   "cell_type": "markdown",
   "metadata": {},
   "source": [
    "## 1. Look Up Table (LUT)查找表\n",
    "\n",
    "- applyColorMap(src, dst, COLORMAP)\n",
    "- src 输入图像\n",
    "- dst 输出图像\n",
    "- 匹配到的颜色LUT，OpenCV支持13种颜色风格的查找表映射\n",
    "<img src=\"./image/LUT.jpg\">\n",
    "\n",
    "### 查找表\n",
    "- COLORMAP_AUTUMN = 0\n",
    "- COLORMAP_BONE = 1\n",
    "- COLORMAP_COOL = 8\n",
    "- COLORMAP_HOT = 11\n",
    "- COLORMAP_HSV = 9\n",
    "- COLORMAP_JET = 2\n",
    "- COLORMAP_OCEAN = 5\n",
    "- COLORMAP_PARULA = 12\n",
    "- COLORMAP_PINK = 10\n",
    "- COLORMAP_RAINBOW = 4\n",
    "- COLORMAP_SPRING = 7\n",
    "- COLORMAP_SUMMER = 6\n",
    "- COLORMAP_WINTER = 3"
   ]
  },
  {
   "cell_type": "code",
   "execution_count": 16,
   "metadata": {},
   "outputs": [],
   "source": [
    "import cv2 as cv\n",
    "\n",
    "src = cv.imread(\"D:/Our Home/Python/OpenCV/image/rabbits.jpg\")\n",
    "cv.imshow(\"input\", src)\n",
    "dst = cv.applyColorMap(src, cv.COLORMAP_COOL)\n",
    "cv.imshow(\"output\", dst)\n",
    "cv.waitKey(0)\n",
    "cv.destroyAllWindows()"
   ]
  },
  {
   "cell_type": "markdown",
   "metadata": {},
   "source": [
    "## 2. 像素操作之逻辑操作\n",
    "<img src=\"./image/logical operation.jpg\">"
   ]
  },
  {
   "cell_type": "code",
   "execution_count": 15,
   "metadata": {},
   "outputs": [
    {
     "data": {
      "text/plain": [
       "-1"
      ]
     },
     "execution_count": 15,
     "metadata": {},
     "output_type": "execute_result"
    }
   ],
   "source": [
    "import cv2 as cv\n",
    "import numpy as np\n",
    "src = cv.imread(\"D:/Our Home/Python/OpenCV/image/rabbits.jpg\")\n",
    "src1 = np.zeros(shape=[400, 400, 3], dtype=np.uint8)\n",
    "src2 = np.zeros(shape=[400, 400, 3], dtype=np.uint8)\n",
    "\n",
    "src1[100: 200, 100: 200, 1] = 255\n",
    "src1[100: 200, 100: 200, 2] = 255\n",
    "src2[150: 250, 150: 250, 2] = 255\n",
    "cv.imshow(\"src1\", src1)\n",
    "cv.imshow(\"src2\", src2)\n",
    "\n",
    "# 逻辑操作\n",
    "dst1 = cv.bitwise_and(src1, src2)\n",
    "dst2 = cv.bitwise_xor(src1, src2)\n",
    "dst3 = cv.bitwise_or(src1, src2)\n",
    "dst4 = cv.bitwise_not(src)\n",
    "\n",
    "cv.imshow(\"dst1\", dst1)\n",
    "cv.imshow(\"dst2\", dst2)\n",
    "cv.imshow(\"dst3\", dst3)\n",
    "cv.imshow(\"dst4\", dst4)\n",
    "cv.waitKey(0)"
   ]
  }
 ],
 "metadata": {
  "kernelspec": {
   "display_name": "Python 3",
   "language": "python",
   "name": "python3"
  },
  "language_info": {
   "codemirror_mode": {
    "name": "ipython",
    "version": 3
   },
   "file_extension": ".py",
   "mimetype": "text/x-python",
   "name": "python",
   "nbconvert_exporter": "python",
   "pygments_lexer": "ipython3",
   "version": "3.7.6"
  }
 },
 "nbformat": 4,
 "nbformat_minor": 4
}
