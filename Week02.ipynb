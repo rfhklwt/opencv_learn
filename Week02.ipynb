{
 "cells": [
  {
   "cell_type": "markdown",
   "metadata": {},
   "source": [
    "## 1. Look Up Table (LUT)查找表\n",
    "\n",
    "- applyColorMap(src, dst, COLORMAP)\n",
    "- src 输入图像\n",
    "- dst 输出图像\n",
    "- 匹配到的颜色LUT，OpenCV支持13种颜色风格的查找表映射\n",
    "<img src=\"./image/LUT.jpg\">\n",
    "\n",
    "### 查找表\n",
    "- COLORMAP_AUTUMN = 0\n",
    "- COLORMAP_BONE = 1\n",
    "- COLORMAP_COOL = 8\n",
    "- COLORMAP_HOT = 11\n",
    "- COLORMAP_HSV = 9\n",
    "- COLORMAP_JET = 2\n",
    "- COLORMAP_OCEAN = 5\n",
    "- COLORMAP_PARULA = 12\n",
    "- COLORMAP_PINK = 10\n",
    "- COLORMAP_RAINBOW = 4\n",
    "- COLORMAP_SPRING = 7\n",
    "- COLORMAP_SUMMER = 6\n",
    "- COLORMAP_WINTER = 3"
   ]
  },
  {
   "cell_type": "code",
   "execution_count": 16,
   "metadata": {},
   "outputs": [],
   "source": [
    "import cv2 as cv\n",
    "\n",
    "src = cv.imread(\"D:/Our Home/Python/OpenCV/image/rabbits.jpg\")\n",
    "cv.imshow(\"input\", src)\n",
    "dst = cv.applyColorMap(src, cv.COLORMAP_COOL)\n",
    "cv.imshow(\"output\", dst)\n",
    "cv.waitKey(0)\n",
    "cv.destroyAllWindows()"
   ]
  },
  {
   "cell_type": "markdown",
   "metadata": {},
   "source": [
    "## 2. 像素操作之逻辑操作\n",
    "<img src=\"./image/logical operation.jpg\">"
   ]
  },
  {
   "cell_type": "code",
   "execution_count": 15,
   "metadata": {},
   "outputs": [
    {
     "data": {
      "text/plain": [
       "-1"
      ]
     },
     "execution_count": 15,
     "metadata": {},
     "output_type": "execute_result"
    }
   ],
   "source": [
    "import cv2 as cv\n",
    "import numpy as np\n",
    "src = cv.imread(\"D:/Our Home/Python/OpenCV/image/rabbits.jpg\")\n",
    "src1 = np.zeros(shape=[400, 400, 3], dtype=np.uint8)\n",
    "src2 = np.zeros(shape=[400, 400, 3], dtype=np.uint8)\n",
    "\n",
    "src1[100: 200, 100: 200, 1] = 255\n",
    "src1[100: 200, 100: 200, 2] = 255\n",
    "src2[150: 250, 150: 250, 2] = 255\n",
    "cv.imshow(\"src1\", src1)\n",
    "cv.imshow(\"src2\", src2)\n",
    "\n",
    "# 逻辑操作\n",
    "dst1 = cv.bitwise_and(src1, src2)\n",
    "dst2 = cv.bitwise_xor(src1, src2)\n",
    "dst3 = cv.bitwise_or(src1, src2)\n",
    "dst4 = cv.bitwise_not(src)\n",
    "\n",
    "cv.imshow(\"dst1\", dst1)\n",
    "cv.imshow(\"dst2\", dst2)\n",
    "cv.imshow(\"dst3\", dst3)\n",
    "cv.imshow(\"dst4\", dst4)\n",
    "cv.waitKey(0)"
   ]
  },
  {
   "cell_type": "markdown",
   "metadata": {},
   "source": [
    "## 3. 通道分离与合并\n",
    "OpenCV中默认imread函数加载图像文件，加载进来的是三通道彩色图像，色彩空间是RGB色彩空间、通道顺序是**BGR**，对于三通道的图像OpenCV中提供了两个API函数用以实现通道分离与合并。\n",
    "\n",
    "- split -> 通道分离\n",
    "- merge -> 通道合并\n",
    "\n",
    "<img src=\"./image/RGB.jpg\">\n",
    "\n",
    "在很多CNN的卷积神经网络中输入的图像一般会要求\\[h, w, ch\\]，其中h是高度、w是指宽度、ch是指通道数数目，OpenCV DNN模块中关于图像分类的google net模型输入\\[244, 244, 3\\]表示的就是224$\\times$224大小的三通道的彩色图像输入。"
   ]
  },
  {
   "cell_type": "code",
   "execution_count": 11,
   "metadata": {},
   "outputs": [],
   "source": [
    "import cv2 as cv\n",
    "import numpy as np\n",
    "src = cv.imread(\"D:/Our Home/Python/OpenCV/image/rabbits.jpg\")\n",
    "#cv.imshow(\"input\", src)\n",
    "\n",
    "# 蓝色通道为零\n",
    "mv = cv.split(src)\n",
    "mv[0][:, :] = 0\n",
    "mv[1][:, :] = 0\n",
    "dst1 = cv.merge(mv)\n",
    "cv.imshow(\"dst1\", dst1)\n",
    "\n",
    "# 绿色通道为零\n",
    "mv = cv.split(src)\n",
    "mv[1][:, :] = 0\n",
    "dst2 = cv.merge(mv)\n",
    "#cv.imshow(\"dst2\", dst2)\n",
    "\n",
    "# 红色通道为零\n",
    "mv = cv.split(src)\n",
    "mv[2][:, :] = 0\n",
    "dst3 = cv.merge(mv)\n",
    "#cv.imshow(\"dst3\", dst3)\n",
    "\n",
    "# 把src的第二个通道和第一个通道交换并放到dst中（0, 2）,(1, 1), (2, 0)表示0通道和2通道数值交换\n",
    "dst = np.zeros(src.shape, np.uint8)\n",
    "cv.mixChannels([dst1], [dst], fromTo = [0, 2, 1, 1, 2, 0])\n",
    "cv.imshow(\"output4\", dst)\n",
    "\n",
    "cv.waitKey(0)\n",
    "cv.destroyAllWindows()"
   ]
  },
  {
   "cell_type": "markdown",
   "metadata": {},
   "source": [
    "## 4. 色彩空间与色彩空间转换\n",
    "- RGB色彩空间 -> 与设备无关、独立于设备，图像读取和存储常用\n",
    "- HSV色彩空间 -> 对于直方图相关的图像相关处理，一般需要进行HSV处理\n",
    "- YUV色彩空间 -> 早期欧洲电视行业的标准，与设备有关。安卓的照片的raw data格式是YUV的，之后才转到RGB格式照片\n",
    "- YCrCb色彩空间 -> 用于做皮肤检测，根据颜色的统计模型效果比较好\n",
    "\n",
    "<img src=\"./image/HSV.png\">\n",
    "\n",
    "**API知识点**\n",
    "- 色彩空间转换cvtColor\n",
    "- 提取指定色彩范围区域inRange"
   ]
  },
  {
   "cell_type": "code",
   "execution_count": 14,
   "metadata": {},
   "outputs": [],
   "source": [
    "import cv2 as cv\n",
    "import numpy as np\n",
    "src = cv.imread(\"D:/Our Home/Python/OpenCV/image/rabbits.jpg\")\n",
    "cv.imshow(\"rgb\", src)\n",
    "\n",
    "# RGB to HSV\n",
    "hsv = cv.cvtColor(src, cv.COLOR_BGR2HSV)\n",
    "cv.imshow(\"hsv\", hsv)\n",
    "\n",
    "# RGB to YUV\n",
    "yuv = cv.cvtColor(src, cv.COLOR_BGR2YUV)\n",
    "cv.imshow(\"yuv\", yuv)\n",
    "\n",
    "# RGB to YCrCb\n",
    "ycrcb = cv.cvtColor(src, cv.COLOR_BGR2YCrCb)\n",
    "cv.imshow(\"ycrcb\", ycrcb)\n",
    "\n",
    "# 实现掩模分割\n",
    "mask = cv.inRange(hsv, (26, 43, 46), (99, 255, 255))\n",
    "\n",
    "mask = cv.bitwise_not(mask)\n",
    "cv.imshow(\"mask\", mask)\n",
    "dst = cv.bitwise_and(src, src, mask=mask)\n",
    "cv.imshow(\"dst\", dst)\n",
    "\n",
    "\n",
    "cv.waitKey(0)\n",
    "cv.destroyAllWindows()"
   ]
  },
  {
   "cell_type": "markdown",
   "metadata": {},
   "source": [
    "## 5. 像素值统计\n",
    "- 最小(min)\n",
    "- 最大(max)\n",
    "- 均值(mean)\n",
    "- 标准方差(standard deviation)\n",
    "\n",
    "**API知识点**\n",
    "- 最大最小值 minMaxLoc\n",
    "- 计算均值与标准方差meanStdDev"
   ]
  },
  {
   "cell_type": "code",
   "execution_count": 14,
   "metadata": {},
   "outputs": [
    {
     "name": "stdout",
     "output_type": "stream",
     "text": [
      "min: 0.00, max: 255.00\n",
      "min loc:  (534, 192)\n",
      "max loc:  (244, 633)\n",
      "mean: 89.67, stddev: 48.98\n"
     ]
    }
   ],
   "source": [
    "import cv2 as cv\n",
    "import numpy as np\n",
    "# 记得转成灰度图\n",
    "src = cv.imread(\"D:/Our Home/Python/OpenCV/image/rabbits.jpg\", cv.IMREAD_GRAYSCALE)\n",
    "cv.imshow(\"input\", src)\n",
    "\n",
    "\n",
    "min, max, minLoc, maxLoc = cv.minMaxLoc(src)\n",
    "print(\"min: %.2f, max: %.2f\" % (min, max))\n",
    "print(\"min loc: \", minLoc)\n",
    "print(\"max loc: \", maxLoc)\n",
    "\n",
    "means, stddev = cv.meanStdDev(src)\n",
    "print(\"mean: %.2f, stddev: %.2f\" % (means, stddev))\n",
    "\n",
    "src[src < means] = 0\n",
    "src[src > means] = 255\n",
    "cv.imshow(\"binary\", src)\n",
    "\n",
    "cv.waitKey(0)\n",
    "cv.destroyAllWindows()"
   ]
  }
 ],
 "metadata": {
  "kernelspec": {
   "display_name": "Python 3",
   "language": "python",
   "name": "python3"
  },
  "language_info": {
   "codemirror_mode": {
    "name": "ipython",
    "version": 3
   },
   "file_extension": ".py",
   "mimetype": "text/x-python",
   "name": "python",
   "nbconvert_exporter": "python",
   "pygments_lexer": "ipython3",
   "version": "3.7.6"
  }
 },
 "nbformat": 4,
 "nbformat_minor": 4
}
